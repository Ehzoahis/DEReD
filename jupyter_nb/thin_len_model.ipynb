{
 "cells": [
  {
   "cell_type": "code",
   "execution_count": null,
   "id": "77d8f2c5-3605-43a4-87de-05111c4f6582",
   "metadata": {},
   "outputs": [],
   "source": [
    "import numpy as np\n",
    "import pandas as pd\n",
    "import seaborn as sns\n",
    "import matplotlib.pyplot as plt\n",
    "from mpl_toolkits import mplot3d"
   ]
  },
  {
   "cell_type": "code",
   "execution_count": null,
   "id": "f7bf8629-3204-4e8d-8337-fa815b516dda",
   "metadata": {},
   "outputs": [],
   "source": [
    "def thin_len_coc(FN, dpt, focal_length, focus_dist, pixel_size=1.2e-5):\n",
    "    sensor_dist = focus_dist * focal_length / (focus_dist - focal_length)\n",
    "    D =  focal_length / FN\n",
    "    CoC = D * sensor_dist * (1/focal_length - 1/sensor_dist - 1/dpt)\n",
    "    sigma = CoC / 2 / pixel_size\n",
    "    return np.abs(sigma), D, sensor_dist, sigma"
   ]
  },
  {
   "cell_type": "code",
   "execution_count": null,
   "id": "722c2a5e-3a68-4884-a0a8-2854c4e24abe",
   "metadata": {},
   "outputs": [],
   "source": [
    "sigmas = np.zeros((200, 200))\n",
    "fd_list = np.linspace(0.1, 10, 200)\n",
    "dpt_range = np.linspace(0.1, 10., 200)"
   ]
  },
  {
   "cell_type": "code",
   "execution_count": null,
   "id": "e0e1e07b-6486-4e58-8ce5-0ad742dc27bb",
   "metadata": {},
   "outputs": [],
   "source": [
    "for i, fd in enumerate(fd_list):\n",
    "    for j, dpt in enumerate(dpt_range):\n",
    "        sigma, _, _, _ = thin_len_coc(1.2, dpt, 50*1e-3, fd)\n",
    "        sigmas[j][i] = sigma"
   ]
  },
  {
   "cell_type": "code",
   "execution_count": null,
   "id": "64c1745a-5293-47e5-8fd9-6633812ad2f6",
   "metadata": {},
   "outputs": [],
   "source": [
    "X, Y = np.meshgrid(fd_list, dpt_range)"
   ]
  },
  {
   "cell_type": "code",
   "execution_count": null,
   "id": "407763e3-471b-44d1-832f-58770bc6eb58",
   "metadata": {},
   "outputs": [],
   "source": [
    "fig = plt.figure(figsize=(10, 6))\n",
    "ax = plt.axes(projection='3d')\n",
    "ax.plot_wireframe(Y, X, sigmas)\n",
    "ax.set_xlabel('dpt')\n",
    "ax.set_ylabel('fd')\n",
    "ax.set_zlabel('sigma')\n",
    "ax.view_init(30, 30)\n",
    "fig.show()"
   ]
  },
  {
   "cell_type": "code",
   "execution_count": null,
   "id": "c70cfaa0-9b71-498f-8f8d-d5e59c611c3d",
   "metadata": {},
   "outputs": [],
   "source": [
    "fd_list = [.3, .45, .75, 1.2, 1.8]\n",
    "dpt_range = np.linspace(0.1, 10, 200)"
   ]
  },
  {
   "cell_type": "code",
   "execution_count": null,
   "id": "5effe793-6863-47a7-a6f6-36481a9a80b8",
   "metadata": {},
   "outputs": [],
   "source": [
    "df = dict(fd=[], dpt=[], sigma=[])\n",
    "for i, fd in enumerate(fd_list):  \n",
    "    for j, dpt in enumerate(dpt_range):\n",
    "        r_sigma, D, _, sigma = thin_len_coc(2, dpt, 12e-3, fd, pixel_size=5.6e-6)\n",
    "        df['fd'].append(fd)\n",
    "        df['dpt'].append(dpt)        \n",
    "        df['sigma'].append(r_sigma)               "
   ]
  },
  {
   "cell_type": "code",
   "execution_count": null,
   "id": "027c03fc-947d-4b35-87ab-64e1c8123ce3",
   "metadata": {},
   "outputs": [],
   "source": [
    "df = pd.DataFrame.from_dict(df, dtype=np.float64)"
   ]
  },
  {
   "cell_type": "code",
   "execution_count": null,
   "id": "44c6668c-6d40-4fd2-9821-e99fff166a4c",
   "metadata": {},
   "outputs": [],
   "source": [
    "plt.figure()\n",
    "sns.set_theme()\n",
    "cmap = sns.color_palette(\"flare\", as_cmap=True)\n",
    "sns.lineplot(data=df, x='dpt', y='sigma', hue='fd', palette=cmap)\n",
    "plt.xlabel('Depth (m)')\n",
    "plt.ylabel('$\\sigma$ (px)')\n",
    "plt.legend(title = \"Focus Dist. (m)\")"
   ]
  },
  {
   "cell_type": "code",
   "execution_count": null,
   "id": "268496d1-8bc0-40e7-9f7a-bf8b34a26cf2",
   "metadata": {},
   "outputs": [],
   "source": []
  }
 ],
 "metadata": {
  "kernelspec": {
   "display_name": "Python 3 (ipykernel)",
   "language": "python",
   "name": "python3"
  },
  "language_info": {
   "codemirror_mode": {
    "name": "ipython",
    "version": 3
   },
   "file_extension": ".py",
   "mimetype": "text/x-python",
   "name": "python",
   "nbconvert_exporter": "python",
   "pygments_lexer": "ipython3",
   "version": "3.9.15"
  },
  "vscode": {
   "interpreter": {
    "hash": "31f2aee4e71d21fbe5cf8b01ff0e069b9275f58929596ceb00d14d90e3e16cd6"
   }
  }
 },
 "nbformat": 4,
 "nbformat_minor": 5
}
