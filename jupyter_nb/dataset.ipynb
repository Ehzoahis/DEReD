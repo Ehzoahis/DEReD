{
 "cells": [
  {
   "cell_type": "code",
   "execution_count": null,
   "id": "81aec3a6-e6ea-4481-9f94-a71cefa815bb",
   "metadata": {},
   "outputs": [],
   "source": [
    "import sys\n",
    "sys.path.append('..')\n",
    "\n",
    "from utils import *\n",
    "from model import *\n",
    "from tqdm.auto import tqdm, trange\n",
    "import matplotlib.pyplot as plt\n",
    "from PIL import Image\n",
    "%load_ext autoreload\n",
    "%autoreload 2"
   ]
  },
  {
   "cell_type": "code",
   "execution_count": null,
   "id": "519ff90f-36e0-4e1a-babe-cd822813a1f4",
   "metadata": {},
   "outputs": [],
   "source": [
    "root_dir = \"/path/to/dataset/\""
   ]
  },
  {
   "cell_type": "code",
   "execution_count": null,
   "id": "cecb8a13-2894-4338-a597-1547e4d3587a",
   "metadata": {},
   "outputs": [],
   "source": [
    "dataset_config = {\n",
    "    'root_dir': root_dir,\n",
    "    'shuffle': True,\n",
    "    'img_num':  50, \n",
    "    'visible_img': 5,\n",
    "    'focus_dist': [.3, .45, .75, 1.2, 1.8],\n",
    "    'recon_all': True,\n",
    "    'near': 0.1,\n",
    "    'RGBFD': True,\n",
    "    'DPT': True,\n",
    "    'AIF': False,\n",
    "    'far': 1,\n",
    "}"
   ]
  },
  {
   "cell_type": "code",
   "execution_count": null,
   "id": "35b8c717-206c-4128-9733-d20190b8c105",
   "metadata": {},
   "outputs": [],
   "source": [
    "train_dl, val_dl, test_dl = load_data(dataset_config, \"DefocusNet\", 1)"
   ]
  },
  {
   "cell_type": "code",
   "execution_count": null,
   "id": "f560cd8f-a22b-460a-8d75-20b57de51864",
   "metadata": {},
   "outputs": [],
   "source": [
    "gt_dpt = test_dl.dataset[0]['dpt'][0].unsqueeze(-1).numpy()\n",
    "plt.imshow(gt_dpt)\n",
    "np.max(gt_dpt)"
   ]
  },
  {
   "cell_type": "code",
   "execution_count": null,
   "id": "a8c35dc3-8d8f-4322-a4c8-0d404dc68440",
   "metadata": {},
   "outputs": [],
   "source": [
    "fs = test_dl.dataset[0]['output'][::2,:3,:,:]"
   ]
  },
  {
   "cell_type": "code",
   "execution_count": null,
   "id": "273bcc6f-4e8f-4e9e-9e00-32b8ea748df5",
   "metadata": {},
   "outputs": [],
   "source": [
    "diff_fs = fs[1:] - fs[:-1]"
   ]
  },
  {
   "cell_type": "code",
   "execution_count": null,
   "id": "07ca81f8-9e1f-490e-a4ee-80ad31a42727",
   "metadata": {},
   "outputs": [],
   "source": [
    "diff_fs.shape"
   ]
  },
  {
   "cell_type": "code",
   "execution_count": null,
   "id": "1600b229-9e6e-44a9-a019-82da0a64f30a",
   "metadata": {},
   "outputs": [],
   "source": [
    "diff = torch.mean(diff_fs[:, :, 151, 151], dim=1)\n",
    "diff"
   ]
  },
  {
   "cell_type": "code",
   "execution_count": null,
   "id": "8c5b468e-45bc-4ccb-9d02-f918b6407a77",
   "metadata": {},
   "outputs": [],
   "source": [
    "samp = diff_fs[17].numpy().transpose(1, 2, 0)\n",
    "plt.imshow(np.abs(samp))"
   ]
  },
  {
   "cell_type": "code",
   "execution_count": null,
   "id": "2d78d23f-6931-4712-9fb9-cf06ac3ca018",
   "metadata": {},
   "outputs": [],
   "source": [
    "max_d = 0\n",
    "min_d = 0\n",
    "\n",
    "for data in tqdm(train_dl.dataset):\n",
    "    gt_dpt = data['dpt'][0].unsqueeze(-1).numpy()\n",
    "    max_dpt = np.max(gt_dpt)\n",
    "    min_dpt = np.min(gt_dpt)\n",
    "    if max_d < max_dpt:\n",
    "        max_d = max_dpt\n",
    "    if min_d > min_dpt:\n",
    "        min_d = min_dpt"
   ]
  },
  {
   "cell_type": "code",
   "execution_count": null,
   "id": "21930648-46a5-43af-9d8b-d9aab0c8b1b7",
   "metadata": {},
   "outputs": [],
   "source": [
    "dl = iter(train_dl)"
   ]
  },
  {
   "cell_type": "code",
   "execution_count": null,
   "id": "38d9733f-9a7c-4b76-94f2-c6566626fd65",
   "metadata": {},
   "outputs": [],
   "source": [
    "a = next(dl)"
   ]
  },
  {
   "cell_type": "code",
   "execution_count": null,
   "id": "e5064da7-47e5-4ebd-b616-6c1c0bb42589",
   "metadata": {},
   "outputs": [],
   "source": [
    "a['output'][0].shape"
   ]
  },
  {
   "cell_type": "code",
   "execution_count": null,
   "id": "78b44394-a0fe-4589-a90a-1415a505a52b",
   "metadata": {},
   "outputs": [],
   "source": [
    "plt.figure(figsize=(10, 6))\n",
    "plt.subplot(1, 2, 1)\n",
    "plt.imshow(a['output'][0][0].numpy().transpose(1, 2, 0))\n",
    "plt.subplot(1, 2, 2)\n",
    "plt.imshow(a['dpt'][0].numpy().transpose(1, 2, 0))\n",
    "plt.colorbar()"
   ]
  },
  {
   "cell_type": "code",
   "execution_count": null,
   "id": "0cbebcb5-5a59-4b35-b3fe-85957980b4c7",
   "metadata": {},
   "outputs": [],
   "source": [
    "dpt = a['dpt'][0]\n",
    "dpt.shape"
   ]
  },
  {
   "cell_type": "code",
   "execution_count": null,
   "id": "28ff17b8-b28a-4bcd-8f26-4f2fa084cbc2",
   "metadata": {},
   "outputs": [],
   "source": [
    "# aif = a['aif'][0].unsqueeze(0)"
   ]
  },
  {
   "cell_type": "code",
   "execution_count": null,
   "id": "16cf2f86-df3e-4d14-8b2a-91d656ca2ecc",
   "metadata": {},
   "outputs": [],
   "source": [
    "def thin_len_coc(FN, dpt, focal_length, focus_dist, pixel_size=1.21e-5):\n",
    "    sensor_dist = focus_dist * focal_length / (focus_dist - focal_length)\n",
    "    D =  focal_length / FN\n",
    "    CoC = D * sensor_dist * (1/focal_length - 1/sensor_dist - 1/dpt)\n",
    "    sigma = CoC / 2 / pixel_size\n",
    "    return torch.abs(sigma)"
   ]
  },
  {
   "cell_type": "code",
   "execution_count": null,
   "id": "a78de53f-96a3-45c0-bb06-0a4739c0ee73",
   "metadata": {},
   "outputs": [],
   "source": [
    "defocuses = []\n",
    "plt.figure(figsize=(25, 6))\n",
    "for i, fd in enumerate([0.1, 0.15, 0.3, 0.7, 1.5]):\n",
    "    plt.subplot(1, 5, i+1)\n",
    "    defocus = thin_len_coc(1, dpt, 2.9*1e-3, fd)\n",
    "    defocuses.append(defocus.unsqueeze(0))\n",
    "    plt.imshow(defocus.numpy().transpose(1, 2, 0))\n",
    "\n",
    "plt.figure(figsize=(25, 6))\n",
    "for i, fd in enumerate([0.1, 0.15, 0.3, 0.7, 1.5]):\n",
    "    plt.subplot(1, 5, i+1)\n",
    "    defocus = thin_len_coc(1, dpt, 2.9*1e-3, fd)\n",
    "    plt.imshow(np.clip(defocus.numpy().transpose(1, 2, 0), 1, np.inf))\n",
    "    \n",
    "plt.figure(figsize=(25, 6))\n",
    "for i in range(5):\n",
    "    plt.subplot(1, 5, i+1)\n",
    "    plt.imshow(a['output'][0, i].numpy().transpose(1, 2, 0))"
   ]
  },
  {
   "cell_type": "code",
   "execution_count": null,
   "id": "39edb8ea-5b19-425c-98cc-888b734d401d",
   "metadata": {},
   "outputs": [],
   "source": [
    "torch.cuda.set_device(5)\n",
    "render = GaussPSF(7)\n",
    "render.cuda()"
   ]
  },
  {
   "cell_type": "code",
   "execution_count": null,
   "id": "9b829a60-34c1-4dd7-8bc1-a32f41ad6008",
   "metadata": {},
   "outputs": [],
   "source": [
    "recon = render(aif.cuda(), defocus.cuda())"
   ]
  },
  {
   "cell_type": "code",
   "execution_count": null,
   "id": "05a7d638-7c1d-48e4-bcfd-d20002e6e48e",
   "metadata": {},
   "outputs": [],
   "source": [
    "plt.figure(figsize=(10, 6))\n",
    "plt.subplot(1, 2, 1)\n",
    "plt.imshow(recon.squeeze().cpu().numpy().transpose(1, 2, 0))\n",
    "plt.subplot(1, 2, 2)\n",
    "plt.imshow(a['output'][0, -1].numpy().transpose(1, 2, 0))"
   ]
  },
  {
   "cell_type": "code",
   "execution_count": null,
   "id": "ee6a92c7-24e5-466c-bd97-5f71bf365ae0",
   "metadata": {},
   "outputs": [],
   "source": [
    "recon_loss = BlurMetric('recon')\n",
    "sharp_loss = BlurMetric('sharp')\n",
    "ssim_loss = BlurMetric('ssim')\n",
    "l1_loss = BlurMetric('l1')\n",
    "mse_loss = BlurMetric('mse')"
   ]
  },
  {
   "cell_type": "code",
   "execution_count": null,
   "id": "a0cbd0fe-b735-487c-8e3d-1d848ae3433c",
   "metadata": {},
   "outputs": [],
   "source": [
    "recon_loss(recon, a['output'][0, -1].unsqueeze(0).cuda())"
   ]
  },
  {
   "cell_type": "code",
   "execution_count": null,
   "id": "9cf53191-956b-40de-a056-542572ca6abd",
   "metadata": {},
   "outputs": [],
   "source": [
    "sharp_loss(recon, a['output'][0, -1].unsqueeze(0).cuda())"
   ]
  },
  {
   "cell_type": "code",
   "execution_count": null,
   "id": "66144e95-fef7-4ea1-8f5b-b6fdb485ab15",
   "metadata": {},
   "outputs": [],
   "source": [
    "defocus_ = torch.cat(defocuses).squeeze()"
   ]
  },
  {
   "cell_type": "code",
   "execution_count": null,
   "id": "70ddc041-6b39-4aea-99f6-291491d507bb",
   "metadata": {},
   "outputs": [],
   "source": [
    "aif_ = aif.expand(5, *aif.shape[1:]).contiguous()"
   ]
  },
  {
   "cell_type": "code",
   "execution_count": null,
   "id": "ff6e1c24-c276-4976-bf43-1d588aee5501",
   "metadata": {},
   "outputs": [],
   "source": [
    "recon_ = render(aif_.cuda(), defocus_.cuda())"
   ]
  },
  {
   "cell_type": "code",
   "execution_count": null,
   "id": "80238f63-880c-44df-ac80-ed88b1531cea",
   "metadata": {},
   "outputs": [],
   "source": [
    "metric_recon = np.zeros((6, 6))\n",
    "metric_sharp = np.zeros((6, 6))\n",
    "metric_ssim = np.zeros((6, 6))\n",
    "metric_l1 = np.zeros((6, 6))\n",
    "metric_mse = np.zeros((6, 6))"
   ]
  },
  {
   "cell_type": "code",
   "execution_count": null,
   "id": "c4472f46-de80-4f2d-918e-f544f289d3d8",
   "metadata": {},
   "outputs": [],
   "source": [
    "recon_loss(recon_[0].unsqueeze(0), a['output'][:, 0].cuda())"
   ]
  },
  {
   "cell_type": "code",
   "execution_count": null,
   "id": "cbfc7614-e683-4fa2-a4ab-110844296094",
   "metadata": {},
   "outputs": [],
   "source": [
    "for i in range(6):\n",
    "    for j in range(6):\n",
    "        if i != 5:\n",
    "            inp = recon_[i].unsqueeze(0)\n",
    "        else:\n",
    "            inp = a['aif'].cuda()\n",
    "        if j != 5:\n",
    "            tar = a['output'][:, j].cuda()\n",
    "        else:\n",
    "            tar = a['aif'].cuda()\n",
    "        metric_recon[i, j] = recon_loss(inp, tar).item()\n",
    "        metric_sharp[i, j] = sharp_loss(inp, tar).item()\n",
    "        metric_ssim[i, j] = ssim_loss(inp, tar).item()        \n",
    "        metric_l1[i, j] = l1_loss(inp, tar).item()\n",
    "        metric_mse[i, j] = l1_loss(inp, tar).item()                "
   ]
  },
  {
   "cell_type": "code",
   "execution_count": null,
   "id": "3d4a2d7f-0513-4d87-bb5a-c84c0efa6035",
   "metadata": {},
   "outputs": [],
   "source": [
    "for i in range(6):\n",
    "    for j in range(6):\n",
    "        if i != 5:\n",
    "            inp = a['output'][:, i].cuda()\n",
    "        else:\n",
    "            inp = a['aif'].cuda()\n",
    "        if j != 5:\n",
    "            tar = a['output'][:, j].cuda()\n",
    "        else:\n",
    "            tar = a['aif'].cuda()\n",
    "        metric_recon[i, j] = recon_loss(inp, tar).item()\n",
    "        metric_sharp[i, j] = sharp_loss(inp, tar).item()\n",
    "        metric_ssim[i, j] = ssim_loss(inp, tar).item()        \n",
    "        metric_l1[i, j] = l1_loss(inp, tar).item()        \n",
    "        metric_mse[i, j] = l1_loss(inp, tar).item()  "
   ]
  },
  {
   "cell_type": "code",
   "execution_count": null,
   "id": "7bfe509b-1f5e-4f42-9a7a-a476ade09077",
   "metadata": {},
   "outputs": [],
   "source": [
    "plt.figure(figsize=(25, 4))\n",
    "for i, n in enumerate([metric_recon, metric_sharp, 1-metric_ssim, metric_l1, metric_mse]):\n",
    "    plt.subplot(1, 5, i+1)\n",
    "    plt.imshow(n[:5, :5])\n",
    "    plt.colorbar()"
   ]
  },
  {
   "cell_type": "code",
   "execution_count": null,
   "id": "a24916de-9ef5-41fc-b3d8-607ea2bc1b96",
   "metadata": {},
   "outputs": [],
   "source": [
    "def gradient(inp):\n",
    "    D_dy = inp[:, :, :, :] - F.pad(inp[:, :, :-1, :], (0, 0, 1, 0))\n",
    "    D_dx = inp[:, :, :, :] - F.pad(inp[:, :, :, :-1], (1, 0, 0, 0))\n",
    "    return D_dx, D_dy\n",
    "\n",
    "def sharpness(image):\n",
    "    grad = gradient(image)\n",
    "    mu = F.avg_pool2d(image, 7, 1, 7 // 2, count_include_pad=False) + 1e-8\n",
    "    output = - (grad[0]**2 + grad[1]**2) - torch.abs((image - mu) / mu) - torch.pow(image - mu, 2)\n",
    "    return output"
   ]
  },
  {
   "cell_type": "code",
   "execution_count": null,
   "id": "1e15d1cf-46f0-4507-a9a3-0c113123ce8d",
   "metadata": {},
   "outputs": [],
   "source": [
    "plt.imshow(-sharpness(recon_[0].unsqueeze(0))[0].cpu().numpy().transpose(1, 2, 0))"
   ]
  },
  {
   "cell_type": "code",
   "execution_count": null,
   "id": "378cbb91-5685-4961-a42f-dc1ee6b32f11",
   "metadata": {},
   "outputs": [],
   "source": [
    "plt.imshow(-sharpness(a['output'][:, 0].cuda())[0].cpu().numpy().transpose(1, 2, 0))"
   ]
  },
  {
   "cell_type": "code",
   "execution_count": null,
   "id": "f3cb5ff4-42cc-4fb6-a1e9-06bd60233e6e",
   "metadata": {},
   "outputs": [],
   "source": [
    "plt.imshow(-sharpness(a['aif'][:].cuda())[0].cpu().numpy().transpose(1, 2, 0))"
   ]
  },
  {
   "cell_type": "code",
   "execution_count": null,
   "id": "6813f777-cc06-45e9-b3c1-62af53208aa1",
   "metadata": {},
   "outputs": [],
   "source": [
    "clear_pix = torch.min(defocus_, dim=0)"
   ]
  },
  {
   "cell_type": "code",
   "execution_count": null,
   "id": "4095dafe-638a-4344-b599-986574edccc1",
   "metadata": {},
   "outputs": [],
   "source": [
    "clear_pix[1].view(256, 256, 1).shape"
   ]
  },
  {
   "cell_type": "code",
   "execution_count": null,
   "id": "86ed5150-2ef2-48a0-93ea-c0429fa0b6db",
   "metadata": {},
   "outputs": [],
   "source": [
    "plt.figure(figsize=(10, 4))\n",
    "for i in range(2):\n",
    "    plt.subplot(1, 2, i + 1)\n",
    "    plt.imshow(clear_pix[i].numpy())\n",
    "    plt.colorbar()"
   ]
  },
  {
   "cell_type": "code",
   "execution_count": null,
   "id": "d3c19f8e-9277-4c57-9a0e-a889d984810a",
   "metadata": {},
   "outputs": [],
   "source": [
    "coarse_aif = torch.zeros(3, 256, 256)\n",
    "for i in range(256):\n",
    "    for j in range(256):\n",
    "        coarse_aif[:, i, j] = a['output'][0][int(clear_pix[1][i, j]), :, i, j]"
   ]
  },
  {
   "cell_type": "code",
   "execution_count": null,
   "id": "244f4c3b-5baf-4d37-8aa4-e6afd4db6f73",
   "metadata": {},
   "outputs": [],
   "source": [
    "plt.figure(figsize=(10, 6))\n",
    "plt.subplot(1, 2, 1)\n",
    "plt.imshow(a['aif'][0].numpy().transpose(1, 2, 0))\n",
    "plt.subplot(1, 2, 2)\n",
    "plt.imshow(coarse_aif.numpy().transpose(1, 2, 0))"
   ]
  },
  {
   "cell_type": "code",
   "execution_count": null,
   "id": "fe276581-6a74-4d09-8120-1efa9a416a04",
   "metadata": {},
   "outputs": [],
   "source": [
    "recon_loss(a['aif'], coarse_aif.unsqueeze(0))"
   ]
  },
  {
   "cell_type": "code",
   "execution_count": null,
   "id": "e404d70c-fb54-48b6-a3b3-052ca3fd62e4",
   "metadata": {},
   "outputs": [],
   "source": [
    "ssim_loss(a['aif'], coarse_aif.unsqueeze(0))"
   ]
  },
  {
   "cell_type": "code",
   "execution_count": null,
   "id": "ad488049-81fa-45e5-b47e-eedae3782261",
   "metadata": {},
   "outputs": [],
   "source": [
    "l1_loss(a['aif'], coarse_aif.unsqueeze(0))"
   ]
  },
  {
   "cell_type": "code",
   "execution_count": null,
   "id": "c587724c-57d6-47a7-99ea-f6b593d68cb3",
   "metadata": {},
   "outputs": [],
   "source": [
    "sharp_loss(a['aif'], coarse_aif.unsqueeze(0))"
   ]
  },
  {
   "cell_type": "code",
   "execution_count": null,
   "id": "81a37bb8-56d7-4902-910c-749def381e44",
   "metadata": {},
   "outputs": [],
   "source": [
    "mse_loss(a['aif'], coarse_aif.unsqueeze(0))"
   ]
  },
  {
   "cell_type": "code",
   "execution_count": null,
   "id": "620ad364-9b8f-4a91-9c3b-d7f5ca30b034",
   "metadata": {},
   "outputs": [],
   "source": [
    "import OpenEXR"
   ]
  },
  {
   "cell_type": "code",
   "execution_count": null,
   "id": "d479ed1e-1235-438c-8d15-bd62d7c2af7f",
   "metadata": {},
   "outputs": [],
   "source": [
    "def read_dpt(img_dpt_path):\n",
    "    # pt = Imath.PixelType(Imath.PixelType.HALF)  # FLOAT HALF\n",
    "    dpt_img = OpenEXR.InputFile(img_dpt_path)\n",
    "    dw = dpt_img.header()['dataWindow']\n",
    "    size = (dw.max.x - dw.min.x + 1, dw.max.y - dw.min.y + 1)\n",
    "    (r, g, b) = dpt_img.channels(\"RGB\")\n",
    "    dpt = np.frombuffer(r, dtype=np.float16)\n",
    "    dpt.shape = (size[1], size[0])\n",
    "    return dpt"
   ]
  },
  {
   "cell_type": "code",
   "execution_count": null,
   "id": "764765ac-d61f-4ed7-963a-0354d809e6c3",
   "metadata": {},
   "outputs": [],
   "source": [
    "imglist_dpt = [f for f in os.listdir(root_dir) if os.path.isfile(os.path.join(root_dir, f)) and f[-7:] == \"Dpt.exr\"]\n",
    "imglist_all = [f for f in os.listdir(root_dir) if os.path.isfile(os.path.join(root_dir, f)) and f[-7:] == \"All.tif\"]\n",
    "imglist_aif = [f for f in os.listdir(root_dir) if os.path.isfile(os.path.join(root_dir, f)) and f[-7:] == \"Aif.tif\"]"
   ]
  },
  {
   "cell_type": "code",
   "execution_count": null,
   "id": "76e71fe0-cee9-489e-86f0-f8149448fedd",
   "metadata": {},
   "outputs": [],
   "source": [
    "imglist_dpt.sort()\n",
    "imglist_all.sort()\n",
    "imglist_aif.sort()"
   ]
  },
  {
   "cell_type": "code",
   "execution_count": null,
   "id": "c3d89c63-11db-4fa9-a12a-9690ac550b36",
   "metadata": {},
   "outputs": [],
   "source": [
    "for dpt in imglist_dpt:\n",
    "    prefix = dpt.split('.')[0]\n",
    "    img_dpt_path = os.path.join(root_dir, dpt)\n",
    "    depth = read_dpt(img_dpt_path)\n",
    "    save_path = os.path.join(root_dir, prefix+'.npy')\n",
    "    with open(save_path, 'wb') as f:\n",
    "        np.save(f, depth[:, :, None])"
   ]
  },
  {
   "cell_type": "code",
   "execution_count": null,
   "id": "f7ce46d1-19bd-4e0c-9fee-cdf38a1aa4bb",
   "metadata": {},
   "outputs": [],
   "source": [
    "for img in imglist_all:\n",
    "    prefix = img.split('.')[0]\n",
    "    img_all_path = os.path.join(root_dir, img)\n",
    "    im = Image.open(img_all_path)\n",
    "    save_path = os.path.join(root_dir, prefix+'.png')\n",
    "    im.save(save_path)"
   ]
  },
  {
   "cell_type": "code",
   "execution_count": null,
   "id": "a6638d6d-335e-4496-afb0-0d773b2e3cab",
   "metadata": {},
   "outputs": [],
   "source": [
    "for img in imglist_aif:\n",
    "    prefix = img.split('.')[0]\n",
    "    img_all_path = os.path.join(root_dir, img)\n",
    "    im = Image.open(img_all_path)\n",
    "    save_path = os.path.join(root_dir, prefix+'.png')\n",
    "    im.save(save_path)"
   ]
  },
  {
   "cell_type": "code",
   "execution_count": null,
   "id": "7459aeb1-74f3-4516-bc6d-e9fc36df5044",
   "metadata": {},
   "outputs": [],
   "source": [
    "plt.imshow(depth)\n",
    "plt.colorbar()"
   ]
  },
  {
   "cell_type": "code",
   "execution_count": null,
   "id": "799d1b4a-e0e1-4f40-88b0-73f577917532",
   "metadata": {},
   "outputs": [],
   "source": [
    "depth[:, :, None].shape"
   ]
  },
  {
   "cell_type": "code",
   "execution_count": null,
   "id": "ca7a1d17-3bca-45d9-bc0b-2c5b15142138",
   "metadata": {},
   "outputs": [],
   "source": [
    "np.max(depth[:,0])"
   ]
  },
  {
   "cell_type": "code",
   "execution_count": null,
   "id": "cd81a338-86ab-4b7d-bf6e-463e724cb5db",
   "metadata": {},
   "outputs": [],
   "source": []
  }
 ],
 "metadata": {
  "kernelspec": {
   "display_name": "Python 3 (ipykernel)",
   "language": "python",
   "name": "python3"
  },
  "language_info": {
   "codemirror_mode": {
    "name": "ipython",
    "version": 3
   },
   "file_extension": ".py",
   "mimetype": "text/x-python",
   "name": "python",
   "nbconvert_exporter": "python",
   "pygments_lexer": "ipython3",
   "version": "3.9.12"
  },
  "vscode": {
   "interpreter": {
    "hash": "31f2aee4e71d21fbe5cf8b01ff0e069b9275f58929596ceb00d14d90e3e16cd6"
   }
  }
 },
 "nbformat": 4,
 "nbformat_minor": 5
}
