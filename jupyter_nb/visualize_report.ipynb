{
 "cells": [
  {
   "cell_type": "code",
   "execution_count": null,
   "id": "4add309a-9927-4e6a-885b-06b494402796",
   "metadata": {},
   "outputs": [],
   "source": [
    "import pandas as pd"
   ]
  },
  {
   "cell_type": "code",
   "execution_count": null,
   "id": "1a64de3f-5167-44c4-a700-3086619ccfd8",
   "metadata": {},
   "outputs": [],
   "source": [
    "dpt_exp_names = ['NYU_norm_dpt', 'NYU_orig_dpt']\n"
   ]
  },
  {
   "cell_type": "code",
   "execution_count": null,
   "id": "3e9d5579-079c-4bdc-9dbc-3a94e4854054",
   "metadata": {},
   "outputs": [],
   "source": [
    "df = []\n",
    "for exp_name in dpt_exp_names:\n",
    "    save_path = f'/path/to/experiment/{exp_name}/result/eval.csv'\n",
    "    df_exp = pd.read_csv(save_path, index_col=0)\n",
    "    df.append(df_exp)\n",
    "df = pd.concat(df)\n"
   ]
  },
  {
   "cell_type": "code",
   "execution_count": null,
   "id": "a3b8210e-3242-4d4a-954e-f826e07fbe2d",
   "metadata": {},
   "outputs": [],
   "source": [
    "df.groupby('Setting').mean()\n"
   ]
  },
  {
   "cell_type": "code",
   "execution_count": null,
   "id": "db3ad467-1782-4af6-81db-a79fc2d7a6dc",
   "metadata": {},
   "outputs": [],
   "source": []
  }
 ],
 "metadata": {
  "kernelspec": {
   "display_name": "Python 3",
   "language": "python",
   "name": "python3"
  },
  "language_info": {
   "codemirror_mode": {
    "name": "ipython",
    "version": 3
   },
   "file_extension": ".py",
   "mimetype": "text/x-python",
   "name": "python",
   "nbconvert_exporter": "python",
   "pygments_lexer": "ipython3",
   "version": "3.6.8"
  },
  "vscode": {
   "interpreter": {
    "hash": "31f2aee4e71d21fbe5cf8b01ff0e069b9275f58929596ceb00d14d90e3e16cd6"
   }
  }
 },
 "nbformat": 4,
 "nbformat_minor": 5
}
