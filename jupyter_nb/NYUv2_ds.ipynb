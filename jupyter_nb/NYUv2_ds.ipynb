{
 "cells": [
  {
   "cell_type": "code",
   "execution_count": null,
   "id": "48425d56-7c72-4636-b2e8-5b70534a24bd",
   "metadata": {},
   "outputs": [],
   "source": [
    "import sys\n",
    "sys.path.append('..')\n",
    "\n",
    "from utils import *\n",
    "from model import *\n",
    "from tqdm import trange\n",
    "\n",
    "import matplotlib.pyplot as plt\n",
    "import cv2\n",
    "%load_ext autoreload\n",
    "%autoreload 2"
   ]
  },
  {
   "cell_type": "code",
   "execution_count": null,
   "id": "fc5c697a-1777-4430-8cbc-3052f3d99faa",
   "metadata": {},
   "outputs": [],
   "source": [
    "# camera = ThinLenCamera(0.1, focal_length=3.5e-3 ,pixel_size=1.4e-5)\n",
    "camera = ThinLenCamera(8, focal_length=50e-3, pixel_size=1.2e-5)"
   ]
  },
  {
   "cell_type": "code",
   "execution_count": null,
   "id": "30a6a25a-9b48-4396-90d7-b984397d2dca",
   "metadata": {},
   "outputs": [],
   "source": [
    "data_path = '/mnt/petrelfs/sihaozhe/NYUv2-ori'\n",
    "split = 'test'\n",
    "rgb_path = os.path.join(data_path,f'{split}_rgb')\n",
    "dpt_path = os.path.join(data_path, f'{split}_depth')\n",
    "fs_path = os.path.join(data_path, f'{split}_fs_even')\n",
    "device = 0\n",
    "use_cuda = True"
   ]
  },
  {
   "cell_type": "code",
   "execution_count": null,
   "id": "4dbe99eb-309f-4286-a02c-a7a0d153a32c",
   "metadata": {},
   "outputs": [],
   "source": [
    "if not os.path.exists(fs_path):\n",
    "    os.mkdir(fs_path)"
   ]
  },
  {
   "cell_type": "code",
   "execution_count": null,
   "id": "fadb2409-d649-4162-8581-04a2a82826a0",
   "metadata": {},
   "outputs": [],
   "source": [
    "render = GaussPSF(15)\n",
    "render.cuda()"
   ]
  },
  {
   "cell_type": "code",
   "execution_count": null,
   "id": "f00fc6a5-691a-4533-a352-ae792977feef",
   "metadata": {},
   "outputs": [],
   "source": [
    "imglist = [f for f in os.listdir(dpt_path) if os.path.isfile(os.path.join(dpt_path, f))]\n",
    "imglist.sort()"
   ]
  },
  {
   "cell_type": "code",
   "execution_count": null,
   "id": "7f6f1432-242d-4767-b145-dfb3d33a2658",
   "metadata": {},
   "outputs": [],
   "source": [
    "# imglist"
   ]
  },
  {
   "cell_type": "code",
   "execution_count": null,
   "id": "34605f13-3795-4eba-b2b7-14963f207de9",
   "metadata": {},
   "outputs": [],
   "source": [
    "# fd_list = [2, 3, 4.5, 5, 7]\n",
    "# fd_list = [1, 1.5, 2.5, 4, 6]\n",
    "fd_list = [1, 3, 5, 7, 9]\n",
    "# fd_list = [1]\n",
    "# fd_list = np.linspace(1, 9, 50)"
   ]
  },
  {
   "cell_type": "code",
   "execution_count": null,
   "id": "f70ce456-a4fa-48cf-8c45-c7755b4d2d2c",
   "metadata": {},
   "outputs": [],
   "source": [
    "for idx in trange(len(imglist)):\n",
    "# for idx in [1]:\n",
    "    exp_aif = cv2.resize(cv2.imread(os.path.join(rgb_path, imglist[idx])), (640//2, 480//2))/255.\n",
    "    exp_dpt = Image.open(os.path.join(dpt_path, imglist[idx]))\n",
    "    exp_dpt = np.asarray(exp_dpt, dtype=np.float32)\n",
    "    exp_dpt = np.clip(np.asarray(exp_dpt, dtype=np.float32) / 1e4, 0.1, 10)\n",
    "    exp_dpt = cv2.resize(exp_dpt, (640//2, 480//2))\n",
    "    \n",
    "    dpt = torch.from_numpy(exp_dpt).unsqueeze(0)\n",
    "    aif = torch.from_numpy(exp_aif.transpose(2, 0, 1)).type(torch.float32).contiguous()\n",
    "    \n",
    "    for i, fd in enumerate(fd_list):\n",
    "        defocus = camera.getCoC(dpt, fd).type(torch.float32)\n",
    "        fs = render(aif.unsqueeze(0).cuda(), defocus.cuda())\n",
    "        im = fs.cpu().numpy()[0].transpose(1, 2, 0) * 255.\n",
    "        # im = im + 0.002 * np.random.randn(*im.shape) * 255.\n",
    "        fn = f'{imglist[idx][:-4]}_{str(i).zfill(4)}.png'\n",
    "        cv2.imwrite(os.path.join(fs_path, fn), im.astype(np.uint8))"
   ]
  },
  {
   "cell_type": "code",
   "execution_count": null,
   "id": "454fbde7-9079-43c9-b1ac-b2aec2a10636",
   "metadata": {},
   "outputs": [],
   "source": [
    "# dpt[0, 120, 120]"
   ]
  },
  {
   "cell_type": "code",
   "execution_count": null,
   "id": "2f6166b1-adc4-4136-a42c-dec42ad5838a",
   "metadata": {},
   "outputs": [],
   "source": [
    "# 0.006 * np.random.randn(*im.shape) * 255."
   ]
  },
  {
   "cell_type": "code",
   "execution_count": null,
   "id": "fc5f049a-ef75-4c45-b94c-ae136d4a370d",
   "metadata": {},
   "outputs": [],
   "source": [
    "# np.linspace(1, 9, 100)[27]"
   ]
  },
  {
   "cell_type": "code",
   "execution_count": null,
   "id": "62a0b3cc-adb9-445f-8983-12e5c190ec58",
   "metadata": {},
   "outputs": [],
   "source": [
    "# plt.imshow(exp_aif)"
   ]
  },
  {
   "cell_type": "code",
   "execution_count": null,
   "id": "67aafdef-e898-4b80-8daa-8a3c94be85f2",
   "metadata": {},
   "outputs": [],
   "source": [
    "noise = 0.001 * np.random.randn(*im.shape) * 255."
   ]
  },
  {
   "cell_type": "code",
   "execution_count": null,
   "id": "1d99b631-2a50-4d41-82e8-657bd34cb938",
   "metadata": {},
   "outputs": [],
   "source": [
    "plt.imshow((noise + im).astype(np.uint8))"
   ]
  },
  {
   "cell_type": "code",
   "execution_count": null,
   "id": "b6551546-2026-4207-9b4e-463478ea9a08",
   "metadata": {},
   "outputs": [],
   "source": [
    "plt.imshow((noise).astype(np.uint8))"
   ]
  },
  {
   "cell_type": "markdown",
   "id": "a49731ed-90fa-4463-bf46-88cc72878e94",
   "metadata": {},
   "source": [
    "### Example"
   ]
  },
  {
   "cell_type": "code",
   "execution_count": null,
   "id": "77160adc-59ef-4924-9e24-dc6e9d2e7612",
   "metadata": {},
   "outputs": [],
   "source": [
    "idx = 0\n",
    "exp_aif = cv2.resize(cv2.imread(os.path.join(rgb_path, imglist[idx])), (640//2, 480//2))/255.\n",
    "# exp_dpt = cv2.imread(os.path.join(dpt_path, imglist[idx]))[:, :, 0] / 1000.\n",
    "exp_dpt = Image.open(os.path.join(dpt_path, imglist[idx]))\n",
    "exp_dpt = np.clip(np.asarray(exp_dpt, dtype=np.float32)/1e4, 0.1, 10)\n",
    "exp_dpt = np.expand_dims(exp_dpt, axis=2)\n",
    "# exp_dpt = exp_dpt / exp_dpt.max() \n",
    "# exp_dpt = exp_dpt * 9.9 + 0.1\n",
    "exp_dpt = cv2.resize(exp_dpt, (640//2, 480//2)) "
   ]
  },
  {
   "cell_type": "code",
   "execution_count": null,
   "id": "16230fde-0415-42f9-9cde-ac561e54a345",
   "metadata": {},
   "outputs": [],
   "source": [
    "dpt = torch.from_numpy(exp_dpt).unsqueeze(0)\n",
    "aif = torch.from_numpy(exp_aif.transpose(2, 0, 1)).type(torch.float32).contiguous()"
   ]
  },
  {
   "cell_type": "code",
   "execution_count": null,
   "id": "28f163a3-15ee-4653-9237-ce7bf281a497",
   "metadata": {},
   "outputs": [],
   "source": [
    "plt.figure(figsize=(10, 5))\n",
    "plt.subplot(1, 2, 1)\n",
    "plt.imshow(exp_aif)\n",
    "plt.subplot(1, 2, 2)\n",
    "plt.imshow(exp_dpt)\n",
    "plt.colorbar()"
   ]
  },
  {
   "cell_type": "code",
   "execution_count": null,
   "id": "e37b22ac-5ffa-488c-9d1a-3ec349433f44",
   "metadata": {},
   "outputs": [],
   "source": [
    "fd_list = [1, 1.5, 2.5, 4, 6]\n",
    "plt.figure(figsize=(25, 5))\n",
    "recon_img = []\n",
    "for i, fd in enumerate(fd_list):\n",
    "    defocus = camera.getCoC(dpt, fd).type(torch.float32)\n",
    "    fs = render(aif.unsqueeze(0).cuda(), defocus.cuda())\n",
    "    recon_img.append(fs)\n",
    "    plt.subplot(1, 5, i+1)\n",
    "    plt.imshow(fs.cpu().numpy()[0].transpose(1, 2, 0))\n",
    "    \n",
    "plt.figure(figsize=(25, 5))\n",
    "for i, fd in enumerate(fd_list):\n",
    "    defocus = camera.getCoC(dpt, fd).type(torch.float32)\n",
    "    exp_defocus = defocus[0].detach().cpu().numpy()\n",
    "    plt.subplot(1, 5, i+1)\n",
    "    plt.imshow(exp_defocus)\n",
    "    plt.colorbar()"
   ]
  },
  {
   "cell_type": "code",
   "execution_count": null,
   "id": "0948a743-2f5b-40f8-8128-e802001c19af",
   "metadata": {},
   "outputs": [],
   "source": [
    "recon_loss = BlurMetric('recon')\n",
    "sharp_loss = BlurMetric('sharp')\n",
    "ssim_loss = BlurMetric('ssim')\n",
    "l1_loss = BlurMetric('l1')\n",
    "mse_loss = BlurMetric('mse')"
   ]
  },
  {
   "cell_type": "code",
   "execution_count": null,
   "id": "504cac77-ecb3-47f8-85a0-c87d8e7ab391",
   "metadata": {},
   "outputs": [],
   "source": [
    "metric_recon = np.zeros((6, 6))\n",
    "metric_sharp = np.zeros((6, 6))\n",
    "metric_ssim = np.zeros((6, 6))\n",
    "metric_l1 = np.zeros((6, 6))\n",
    "metric_mse = np.zeros((6, 6))"
   ]
  },
  {
   "cell_type": "code",
   "execution_count": null,
   "id": "6bc93a0e-01c4-4f17-8386-94435ace13df",
   "metadata": {},
   "outputs": [],
   "source": [
    "for i in range(6):\n",
    "    for j in range(6):\n",
    "        if i != 5:\n",
    "            inp = recon_img[i]\n",
    "        else:\n",
    "            inp = aif.unsqueeze(0).cuda()\n",
    "        if j != 5:\n",
    "            tar = recon_img[j]\n",
    "        else:\n",
    "            tar = aif.unsqueeze(0).cuda()\n",
    "        metric_recon[i, j] = recon_loss(inp, tar).item()\n",
    "        metric_sharp[i, j] = sharp_loss(inp, tar).item()\n",
    "        metric_ssim[i, j] = ssim_loss(inp, tar).item()        \n",
    "        metric_l1[i, j] = l1_loss(inp, tar).item()\n",
    "        metric_mse[i, j] = l1_loss(inp, tar).item() "
   ]
  },
  {
   "cell_type": "code",
   "execution_count": null,
   "id": "e7b09fa5-7091-4e21-a2d5-56d66d30fa7c",
   "metadata": {},
   "outputs": [],
   "source": [
    "plt.figure(figsize=(25, 4))\n",
    "for i, n in enumerate([metric_recon, metric_sharp, 1-metric_ssim, metric_l1, metric_mse]):\n",
    "    plt.subplot(1, 5, i+1)\n",
    "    plt.imshow(n[:5, :5])\n",
    "    plt.colorbar()"
   ]
  },
  {
   "cell_type": "markdown",
   "id": "5f66f93b-f3d9-4949-a160-66212e8dc0c3",
   "metadata": {},
   "source": [
    "## Dataset"
   ]
  },
  {
   "cell_type": "code",
   "execution_count": null,
   "id": "cbadcbdb-6f14-43ed-8f59-083bbfc30536",
   "metadata": {},
   "outputs": [],
   "source": [
    "dataset_config = {\n",
    "    'root_dir': data_path,\n",
    "    'shuffle': False,\n",
    "    'img_num': 5, \n",
    "    'visible_img': 5,\n",
    "    'focus_dist': [1, 1.5, 2.5, 4, 6],\n",
    "    'recon_all': True,\n",
    "    'RGBFD':True,\n",
    "    'AIF': True,\n",
    "    'DPT': True,\n",
    "    'near':0.1,\n",
    "    'far':10.,\n",
    "    'scale':2\n",
    "}\n",
    "BS = 4"
   ]
  },
  {
   "cell_type": "code",
   "execution_count": null,
   "id": "43c3f2b0-3a68-429f-9df2-0525b0f239a0",
   "metadata": {},
   "outputs": [],
   "source": [
    "train_dl, test_dl, _ = load_data(dataset_config, 'NYU', BS)"
   ]
  },
  {
   "cell_type": "code",
   "execution_count": null,
   "id": "d5c53058-843f-437a-81da-0c36bff48cbc",
   "metadata": {},
   "outputs": [],
   "source": [
    "dl = iter(test_dl)"
   ]
  },
  {
   "cell_type": "code",
   "execution_count": null,
   "id": "0c1628c5-a7ef-466a-a938-1f0ff090eff5",
   "metadata": {},
   "outputs": [],
   "source": [
    "exp = next(dl)"
   ]
  },
  {
   "cell_type": "code",
   "execution_count": null,
   "id": "809028d1-7fb1-42e5-aaa9-af67e68e283a",
   "metadata": {},
   "outputs": [],
   "source": [
    "dpt = exp['dpt']"
   ]
  },
  {
   "cell_type": "code",
   "execution_count": null,
   "id": "14b06491-d967-4579-b76c-29eb88d46453",
   "metadata": {},
   "outputs": [],
   "source": [
    "plt.imshow(dpt[0, 0].numpy())\n",
    "plt.colorbar()"
   ]
  },
  {
   "cell_type": "code",
   "execution_count": null,
   "id": "873b739e-7fa7-4be3-8740-4b253ead314f",
   "metadata": {},
   "outputs": [],
   "source": [
    "dpt.shape"
   ]
  },
  {
   "cell_type": "code",
   "execution_count": null,
   "id": "ee3333ac-955b-40f2-b1e1-f18d5d856eb1",
   "metadata": {},
   "outputs": [],
   "source": []
  }
 ],
 "metadata": {
  "kernelspec": {
   "display_name": "Python 3 (ipykernel)",
   "language": "python",
   "name": "python3"
  },
  "language_info": {
   "codemirror_mode": {
    "name": "ipython",
    "version": 3
   },
   "file_extension": ".py",
   "mimetype": "text/x-python",
   "name": "python",
   "nbconvert_exporter": "python",
   "pygments_lexer": "ipython3",
   "version": "3.9.12"
  },
  "vscode": {
   "interpreter": {
    "hash": "31f2aee4e71d21fbe5cf8b01ff0e069b9275f58929596ceb00d14d90e3e16cd6"
   }
  }
 },
 "nbformat": 4,
 "nbformat_minor": 5
}
